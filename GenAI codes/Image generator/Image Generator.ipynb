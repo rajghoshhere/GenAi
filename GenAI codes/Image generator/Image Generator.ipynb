{
 "cells": [
  {
   "cell_type": "code",
   "execution_count": 0,
   "metadata": {
    "application/vnd.databricks.v1+cell": {
     "cellMetadata": {
      "byteLimit": 2048000,
      "rowLimit": 10000
     },
     "inputWidgets": {},
     "nuid": "2fe86a1b-7f85-4fd1-b2e5-80405a915eba",
     "showTitle": false,
     "tableResultSettingsMap": {},
     "title": ""
    }
   },
   "outputs": [],
   "source": [
    "pip install Pillow\n"
   ]
  },
  {
   "cell_type": "code",
   "execution_count": 0,
   "metadata": {
    "application/vnd.databricks.v1+cell": {
     "cellMetadata": {
      "byteLimit": 2048000,
      "rowLimit": 10000
     },
     "inputWidgets": {},
     "nuid": "b38b4755-6152-4fc2-a88c-1f7b2a94bc5f",
     "showTitle": false,
     "tableResultSettingsMap": {},
     "title": ""
    }
   },
   "outputs": [],
   "source": [
    "pip install diffusers transformers accelerate torch\n"
   ]
  },
  {
   "cell_type": "code",
   "execution_count": 0,
   "metadata": {
    "application/vnd.databricks.v1+cell": {
     "cellMetadata": {
      "byteLimit": 2048000,
      "rowLimit": 10000
     },
     "inputWidgets": {},
     "nuid": "4763d60a-38b4-4b29-85e7-67fdb1fdc311",
     "showTitle": false,
     "tableResultSettingsMap": {},
     "title": ""
    }
   },
   "outputs": [],
   "source": [
    "from diffusers import StableDiffusionPipeline\n",
    "import torch\n",
    "\n",
    "def generate_image_from_prompt(prompt, output_path=\"generated_image.png\"):\n",
    "    # Load model from Hugging Face (first time it will download ~4GB)\n",
    "    pipe = StableDiffusionPipeline.from_pretrained(\n",
    "        \"CompVis/stable-diffusion-v1-4\",\n",
    "        torch_dtype=torch.float16 if torch.cuda.is_available() else torch.float32,\n",
    "        revision=\"fp16\" if torch.cuda.is_available() else None,\n",
    "    )\n",
    "    \n",
    "    # Enable GPU if available\n",
    "    if torch.cuda.is_available():\n",
    "        pipe = pipe.to(\"cuda\")\n",
    "    else:\n",
    "        pipe = pipe.to(\"cpu\")\n",
    "\n",
    "    # Generate image\n",
    "    image = pipe(prompt).images[0]\n",
    "    image.save(output_path)\n",
    "    print(f\"Image saved as {output_path}\")\n",
    "\n",
    "if __name__ == \"__main__\":\n",
    "    user_prompt = input(\"Enter an image description: \")\n",
    "    generate_image_from_prompt(user_prompt)\n"
   ]
  }
 ],
 "metadata": {
  "application/vnd.databricks.v1+notebook": {
   "computePreferences": null,
   "dashboards": [],
   "environmentMetadata": {
    "base_environment": "",
    "environment_version": "2"
   },
   "inputWidgetPreferences": null,
   "language": "python",
   "notebookMetadata": {
    "pythonIndentUnit": 4
   },
   "notebookName": "Image Generator",
   "widgets": {}
  },
  "language_info": {
   "name": "python"
  }
 },
 "nbformat": 4,
 "nbformat_minor": 0
}
