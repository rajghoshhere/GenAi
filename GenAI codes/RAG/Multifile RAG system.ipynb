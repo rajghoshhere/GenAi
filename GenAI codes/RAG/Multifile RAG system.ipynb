{
 "cells": [
  {
   "cell_type": "code",
   "execution_count": 0,
   "metadata": {
    "application/vnd.databricks.v1+cell": {
     "cellMetadata": {
      "byteLimit": 2048000,
      "rowLimit": 10000
     },
     "inputWidgets": {},
     "nuid": "b95d3c2e-d0bd-40f8-9456-f64553a0fb53",
     "showTitle": false,
     "tableResultSettingsMap": {},
     "title": ""
    }
   },
   "outputs": [],
   "source": [
    "\n",
    "%pip install pypdf langchain faiss-cpu sentence-transformers\n",
    "%pip install -qq -U llama-index pydantic PyPDF2\n",
    "%pip install python-pptx\n",
    "%pip install python-docx\n",
    "%pip install PyPDF2\n",
    "dbutils.library.restartPython()\n"
   ]
  },
  {
   "cell_type": "code",
   "execution_count": 0,
   "metadata": {
    "application/vnd.databricks.v1+cell": {
     "cellMetadata": {
      "byteLimit": 2048000,
      "rowLimit": 10000
     },
     "inputWidgets": {},
     "nuid": "af1eae7f-8f75-4e99-8776-7bb7fa07ca82",
     "showTitle": false,
     "tableResultSettingsMap": {},
     "title": ""
    }
   },
   "outputs": [
    {
     "output_type": "stream",
     "name": "stdout",
     "output_type": "stream",
     "text": [
      "Requirement already satisfied: langchain-community in /local_disk0/.ephemeral_nfs/envs/pythonEnv-2ca88415-2245-4daa-87ac-0fdf5f808701/lib/python3.11/site-packages (0.3.27)\nRequirement already satisfied: sentence-transformers in /local_disk0/.ephemeral_nfs/envs/pythonEnv-2ca88415-2245-4daa-87ac-0fdf5f808701/lib/python3.11/site-packages (5.0.0)\nRequirement already satisfied: python-pptx in /local_disk0/.ephemeral_nfs/envs/pythonEnv-2ca88415-2245-4daa-87ac-0fdf5f808701/lib/python3.11/site-packages (1.0.2)\nRequirement already satisfied: faiss-cpu in /local_disk0/.ephemeral_nfs/envs/pythonEnv-2ca88415-2245-4daa-87ac-0fdf5f808701/lib/python3.11/site-packages (1.11.0.post1)\nRequirement already satisfied: langchain-core<1.0.0,>=0.3.66 in /local_disk0/.ephemeral_nfs/envs/pythonEnv-2ca88415-2245-4daa-87ac-0fdf5f808701/lib/python3.11/site-packages (from langchain-community) (0.3.70)\nRequirement already satisfied: langchain<1.0.0,>=0.3.26 in /local_disk0/.ephemeral_nfs/envs/pythonEnv-2ca88415-2245-4daa-87ac-0fdf5f808701/lib/python3.11/site-packages (from langchain-community) (0.3.26)\nRequirement already satisfied: SQLAlchemy<3,>=1.4 in /local_disk0/.ephemeral_nfs/envs/pythonEnv-2ca88415-2245-4daa-87ac-0fdf5f808701/lib/python3.11/site-packages (from langchain-community) (2.0.41)\nRequirement already satisfied: requests<3,>=2 in /databricks/python3/lib/python3.11/site-packages (from langchain-community) (2.31.0)\nRequirement already satisfied: PyYAML>=5.3 in /local_disk0/.ephemeral_nfs/envs/pythonEnv-2ca88415-2245-4daa-87ac-0fdf5f808701/lib/python3.11/site-packages (from langchain-community) (6.0.2)\nRequirement already satisfied: aiohttp<4.0.0,>=3.8.3 in /local_disk0/.ephemeral_nfs/envs/pythonEnv-2ca88415-2245-4daa-87ac-0fdf5f808701/lib/python3.11/site-packages (from langchain-community) (3.12.14)\nRequirement already satisfied: tenacity!=8.4.0,<10,>=8.1.0 in /local_disk0/.ephemeral_nfs/envs/pythonEnv-2ca88415-2245-4daa-87ac-0fdf5f808701/lib/python3.11/site-packages (from langchain-community) (9.1.2)\nRequirement already satisfied: dataclasses-json<0.7,>=0.5.7 in /local_disk0/.ephemeral_nfs/envs/pythonEnv-2ca88415-2245-4daa-87ac-0fdf5f808701/lib/python3.11/site-packages (from langchain-community) (0.6.7)\nRequirement already satisfied: pydantic-settings<3.0.0,>=2.4.0 in /local_disk0/.ephemeral_nfs/envs/pythonEnv-2ca88415-2245-4daa-87ac-0fdf5f808701/lib/python3.11/site-packages (from langchain-community) (2.10.1)\nRequirement already satisfied: langsmith>=0.1.125 in /local_disk0/.ephemeral_nfs/envs/pythonEnv-2ca88415-2245-4daa-87ac-0fdf5f808701/lib/python3.11/site-packages (from langchain-community) (0.4.8)\nRequirement already satisfied: httpx-sse<1.0.0,>=0.4.0 in /local_disk0/.ephemeral_nfs/envs/pythonEnv-2ca88415-2245-4daa-87ac-0fdf5f808701/lib/python3.11/site-packages (from langchain-community) (0.4.1)\nRequirement already satisfied: numpy>=1.26.2 in /local_disk0/.ephemeral_nfs/envs/pythonEnv-2ca88415-2245-4daa-87ac-0fdf5f808701/lib/python3.11/site-packages (from langchain-community) (1.26.4)\nRequirement already satisfied: transformers<5.0.0,>=4.41.0 in /local_disk0/.ephemeral_nfs/envs/pythonEnv-2ca88415-2245-4daa-87ac-0fdf5f808701/lib/python3.11/site-packages (from sentence-transformers) (4.53.3)\nRequirement already satisfied: tqdm in /local_disk0/.ephemeral_nfs/envs/pythonEnv-2ca88415-2245-4daa-87ac-0fdf5f808701/lib/python3.11/site-packages (from sentence-transformers) (4.67.1)\nRequirement already satisfied: torch>=1.11.0 in /local_disk0/.ephemeral_nfs/envs/pythonEnv-2ca88415-2245-4daa-87ac-0fdf5f808701/lib/python3.11/site-packages (from sentence-transformers) (2.7.1)\nRequirement already satisfied: scikit-learn in /databricks/python3/lib/python3.11/site-packages (from sentence-transformers) (1.3.0)\nRequirement already satisfied: scipy in /databricks/python3/lib/python3.11/site-packages (from sentence-transformers) (1.11.1)\nRequirement already satisfied: huggingface-hub>=0.20.0 in /local_disk0/.ephemeral_nfs/envs/pythonEnv-2ca88415-2245-4daa-87ac-0fdf5f808701/lib/python3.11/site-packages (from sentence-transformers) (0.33.4)\nRequirement already satisfied: Pillow in /databricks/python3/lib/python3.11/site-packages (from sentence-transformers) (10.3.0)\nRequirement already satisfied: typing_extensions>=4.5.0 in /local_disk0/.ephemeral_nfs/envs/pythonEnv-2ca88415-2245-4daa-87ac-0fdf5f808701/lib/python3.11/site-packages (from sentence-transformers) (4.14.1)\nRequirement already satisfied: XlsxWriter>=0.5.7 in /local_disk0/.ephemeral_nfs/envs/pythonEnv-2ca88415-2245-4daa-87ac-0fdf5f808701/lib/python3.11/site-packages (from python-pptx) (3.2.5)\nRequirement already satisfied: lxml>=3.1.0 in /local_disk0/.ephemeral_nfs/envs/pythonEnv-2ca88415-2245-4daa-87ac-0fdf5f808701/lib/python3.11/site-packages (from python-pptx) (6.0.0)\nRequirement already satisfied: packaging in /databricks/python3/lib/python3.11/site-packages (from faiss-cpu) (23.2)\nRequirement already satisfied: aiohappyeyeballs>=2.5.0 in /local_disk0/.ephemeral_nfs/envs/pythonEnv-2ca88415-2245-4daa-87ac-0fdf5f808701/lib/python3.11/site-packages (from aiohttp<4.0.0,>=3.8.3->langchain-community) (2.6.1)\nRequirement already satisfied: aiosignal>=1.4.0 in /local_disk0/.ephemeral_nfs/envs/pythonEnv-2ca88415-2245-4daa-87ac-0fdf5f808701/lib/python3.11/site-packages (from aiohttp<4.0.0,>=3.8.3->langchain-community) (1.4.0)\nRequirement already satisfied: attrs>=17.3.0 in /local_disk0/.ephemeral_nfs/envs/pythonEnv-2ca88415-2245-4daa-87ac-0fdf5f808701/lib/python3.11/site-packages (from aiohttp<4.0.0,>=3.8.3->langchain-community) (25.3.0)\nRequirement already satisfied: frozenlist>=1.1.1 in /local_disk0/.ephemeral_nfs/envs/pythonEnv-2ca88415-2245-4daa-87ac-0fdf5f808701/lib/python3.11/site-packages (from aiohttp<4.0.0,>=3.8.3->langchain-community) (1.7.0)\nRequirement already satisfied: multidict<7.0,>=4.5 in /local_disk0/.ephemeral_nfs/envs/pythonEnv-2ca88415-2245-4daa-87ac-0fdf5f808701/lib/python3.11/site-packages (from aiohttp<4.0.0,>=3.8.3->langchain-community) (6.6.3)\nRequirement already satisfied: propcache>=0.2.0 in /local_disk0/.ephemeral_nfs/envs/pythonEnv-2ca88415-2245-4daa-87ac-0fdf5f808701/lib/python3.11/site-packages (from aiohttp<4.0.0,>=3.8.3->langchain-community) (0.3.2)\nRequirement already satisfied: yarl<2.0,>=1.17.0 in /local_disk0/.ephemeral_nfs/envs/pythonEnv-2ca88415-2245-4daa-87ac-0fdf5f808701/lib/python3.11/site-packages (from aiohttp<4.0.0,>=3.8.3->langchain-community) (1.20.1)\nRequirement already satisfied: marshmallow<4.0.0,>=3.18.0 in /local_disk0/.ephemeral_nfs/envs/pythonEnv-2ca88415-2245-4daa-87ac-0fdf5f808701/lib/python3.11/site-packages (from dataclasses-json<0.7,>=0.5.7->langchain-community) (3.26.1)\nRequirement already satisfied: typing-inspect<1,>=0.4.0 in /local_disk0/.ephemeral_nfs/envs/pythonEnv-2ca88415-2245-4daa-87ac-0fdf5f808701/lib/python3.11/site-packages (from dataclasses-json<0.7,>=0.5.7->langchain-community) (0.9.0)\nRequirement already satisfied: filelock in /databricks/python3/lib/python3.11/site-packages (from huggingface-hub>=0.20.0->sentence-transformers) (3.13.4)\nRequirement already satisfied: fsspec>=2023.5.0 in /local_disk0/.ephemeral_nfs/envs/pythonEnv-2ca88415-2245-4daa-87ac-0fdf5f808701/lib/python3.11/site-packages (from huggingface-hub>=0.20.0->sentence-transformers) (2025.7.0)\nRequirement already satisfied: hf-xet<2.0.0,>=1.1.2 in /local_disk0/.ephemeral_nfs/envs/pythonEnv-2ca88415-2245-4daa-87ac-0fdf5f808701/lib/python3.11/site-packages (from huggingface-hub>=0.20.0->sentence-transformers) (1.1.5)\nRequirement already satisfied: langchain-text-splitters<1.0.0,>=0.3.8 in /local_disk0/.ephemeral_nfs/envs/pythonEnv-2ca88415-2245-4daa-87ac-0fdf5f808701/lib/python3.11/site-packages (from langchain<1.0.0,>=0.3.26->langchain-community) (0.3.8)\nRequirement already satisfied: pydantic<3.0.0,>=2.7.4 in /local_disk0/.ephemeral_nfs/envs/pythonEnv-2ca88415-2245-4daa-87ac-0fdf5f808701/lib/python3.11/site-packages (from langchain<1.0.0,>=0.3.26->langchain-community) (2.11.7)\nRequirement already satisfied: jsonpatch<2.0,>=1.33 in /local_disk0/.ephemeral_nfs/envs/pythonEnv-2ca88415-2245-4daa-87ac-0fdf5f808701/lib/python3.11/site-packages (from langchain-core<1.0.0,>=0.3.66->langchain-community) (1.33)\nRequirement already satisfied: httpx<1,>=0.23.0 in /local_disk0/.ephemeral_nfs/envs/pythonEnv-2ca88415-2245-4daa-87ac-0fdf5f808701/lib/python3.11/site-packages (from langsmith>=0.1.125->langchain-community) (0.28.1)\nRequirement already satisfied: orjson<4.0.0,>=3.9.14 in /local_disk0/.ephemeral_nfs/envs/pythonEnv-2ca88415-2245-4daa-87ac-0fdf5f808701/lib/python3.11/site-packages (from langsmith>=0.1.125->langchain-community) (3.11.0)\nRequirement already satisfied: requests-toolbelt<2.0.0,>=1.0.0 in /local_disk0/.ephemeral_nfs/envs/pythonEnv-2ca88415-2245-4daa-87ac-0fdf5f808701/lib/python3.11/site-packages (from langsmith>=0.1.125->langchain-community) (1.0.0)\nRequirement already satisfied: zstandard<0.24.0,>=0.23.0 in /databricks/python3/lib/python3.11/site-packages (from langsmith>=0.1.125->langchain-community) (0.23.0)\nRequirement already satisfied: python-dotenv>=0.21.0 in /local_disk0/.ephemeral_nfs/envs/pythonEnv-2ca88415-2245-4daa-87ac-0fdf5f808701/lib/python3.11/site-packages (from pydantic-settings<3.0.0,>=2.4.0->langchain-community) (1.1.1)\nRequirement already satisfied: typing-inspection>=0.4.0 in /local_disk0/.ephemeral_nfs/envs/pythonEnv-2ca88415-2245-4daa-87ac-0fdf5f808701/lib/python3.11/site-packages (from pydantic-settings<3.0.0,>=2.4.0->langchain-community) (0.4.1)\nRequirement already satisfied: charset-normalizer<4,>=2 in /databricks/python3/lib/python3.11/site-packages (from requests<3,>=2->langchain-community) (2.0.4)\nRequirement already satisfied: idna<4,>=2.5 in /databricks/python3/lib/python3.11/site-packages (from requests<3,>=2->langchain-community) (3.4)\nRequirement already satisfied: urllib3<3,>=1.21.1 in /databricks/python3/lib/python3.11/site-packages (from requests<3,>=2->langchain-community) (1.26.16)\nRequirement already satisfied: certifi>=2017.4.17 in /local_disk0/.ephemeral_nfs/envs/pythonEnv-2ca88415-2245-4daa-87ac-0fdf5f808701/lib/python3.11/site-packages (from requests<3,>=2->langchain-community) (2025.7.14)\nRequirement already satisfied: greenlet>=1 in /local_disk0/.ephemeral_nfs/envs/pythonEnv-2ca88415-2245-4daa-87ac-0fdf5f808701/lib/python3.11/site-packages (from SQLAlchemy<3,>=1.4->langchain-community) (3.2.3)\nRequirement already satisfied: sympy>=1.13.3 in /local_disk0/.ephemeral_nfs/envs/pythonEnv-2ca88415-2245-4daa-87ac-0fdf5f808701/lib/python3.11/site-packages (from torch>=1.11.0->sentence-transformers) (1.14.0)\nRequirement already satisfied: networkx in /local_disk0/.ephemeral_nfs/envs/pythonEnv-2ca88415-2245-4daa-87ac-0fdf5f808701/lib/python3.11/site-packages (from torch>=1.11.0->sentence-transformers) (3.5)\nRequirement already satisfied: jinja2 in /local_disk0/.ephemeral_nfs/envs/pythonEnv-2ca88415-2245-4daa-87ac-0fdf5f808701/lib/python3.11/site-packages (from torch>=1.11.0->sentence-transformers) (3.1.6)\nRequirement already satisfied: nvidia-cuda-nvrtc-cu12==12.6.77 in /local_disk0/.ephemeral_nfs/envs/pythonEnv-2ca88415-2245-4daa-87ac-0fdf5f808701/lib/python3.11/site-packages (from torch>=1.11.0->sentence-transformers) (12.6.77)\nRequirement already satisfied: nvidia-cuda-runtime-cu12==12.6.77 in /local_disk0/.ephemeral_nfs/envs/pythonEnv-2ca88415-2245-4daa-87ac-0fdf5f808701/lib/python3.11/site-packages (from torch>=1.11.0->sentence-transformers) (12.6.77)\nRequirement already satisfied: nvidia-cuda-cupti-cu12==12.6.80 in /local_disk0/.ephemeral_nfs/envs/pythonEnv-2ca88415-2245-4daa-87ac-0fdf5f808701/lib/python3.11/site-packages (from torch>=1.11.0->sentence-transformers) (12.6.80)\nRequirement already satisfied: nvidia-cudnn-cu12==9.5.1.17 in /local_disk0/.ephemeral_nfs/envs/pythonEnv-2ca88415-2245-4daa-87ac-0fdf5f808701/lib/python3.11/site-packages (from torch>=1.11.0->sentence-transformers) (9.5.1.17)\nRequirement already satisfied: nvidia-cublas-cu12==12.6.4.1 in /local_disk0/.ephemeral_nfs/envs/pythonEnv-2ca88415-2245-4daa-87ac-0fdf5f808701/lib/python3.11/site-packages (from torch>=1.11.0->sentence-transformers) (12.6.4.1)\nRequirement already satisfied: nvidia-cufft-cu12==11.3.0.4 in /local_disk0/.ephemeral_nfs/envs/pythonEnv-2ca88415-2245-4daa-87ac-0fdf5f808701/lib/python3.11/site-packages (from torch>=1.11.0->sentence-transformers) (11.3.0.4)\nRequirement already satisfied: nvidia-curand-cu12==10.3.7.77 in /local_disk0/.ephemeral_nfs/envs/pythonEnv-2ca88415-2245-4daa-87ac-0fdf5f808701/lib/python3.11/site-packages (from torch>=1.11.0->sentence-transformers) (10.3.7.77)\nRequirement already satisfied: nvidia-cusolver-cu12==11.7.1.2 in /local_disk0/.ephemeral_nfs/envs/pythonEnv-2ca88415-2245-4daa-87ac-0fdf5f808701/lib/python3.11/site-packages (from torch>=1.11.0->sentence-transformers) (11.7.1.2)\nRequirement already satisfied: nvidia-cusparse-cu12==12.5.4.2 in /local_disk0/.ephemeral_nfs/envs/pythonEnv-2ca88415-2245-4daa-87ac-0fdf5f808701/lib/python3.11/site-packages (from torch>=1.11.0->sentence-transformers) (12.5.4.2)\nRequirement already satisfied: nvidia-cusparselt-cu12==0.6.3 in /local_disk0/.ephemeral_nfs/envs/pythonEnv-2ca88415-2245-4daa-87ac-0fdf5f808701/lib/python3.11/site-packages (from torch>=1.11.0->sentence-transformers) (0.6.3)\nRequirement already satisfied: nvidia-nccl-cu12==2.26.2 in /local_disk0/.ephemeral_nfs/envs/pythonEnv-2ca88415-2245-4daa-87ac-0fdf5f808701/lib/python3.11/site-packages (from torch>=1.11.0->sentence-transformers) (2.26.2)\nRequirement already satisfied: nvidia-nvtx-cu12==12.6.77 in /local_disk0/.ephemeral_nfs/envs/pythonEnv-2ca88415-2245-4daa-87ac-0fdf5f808701/lib/python3.11/site-packages (from torch>=1.11.0->sentence-transformers) (12.6.77)\nRequirement already satisfied: nvidia-nvjitlink-cu12==12.6.85 in /local_disk0/.ephemeral_nfs/envs/pythonEnv-2ca88415-2245-4daa-87ac-0fdf5f808701/lib/python3.11/site-packages (from torch>=1.11.0->sentence-transformers) (12.6.85)\nRequirement already satisfied: nvidia-cufile-cu12==1.11.1.6 in /local_disk0/.ephemeral_nfs/envs/pythonEnv-2ca88415-2245-4daa-87ac-0fdf5f808701/lib/python3.11/site-packages (from torch>=1.11.0->sentence-transformers) (1.11.1.6)\nRequirement already satisfied: triton==3.3.1 in /local_disk0/.ephemeral_nfs/envs/pythonEnv-2ca88415-2245-4daa-87ac-0fdf5f808701/lib/python3.11/site-packages (from torch>=1.11.0->sentence-transformers) (3.3.1)\nRequirement already satisfied: setuptools>=40.8.0 in /local_disk0/.ephemeral_nfs/envs/pythonEnv-2ca88415-2245-4daa-87ac-0fdf5f808701/lib/python3.11/site-packages (from triton==3.3.1->torch>=1.11.0->sentence-transformers) (80.9.0)\nRequirement already satisfied: regex!=2019.12.17 in /local_disk0/.ephemeral_nfs/envs/pythonEnv-2ca88415-2245-4daa-87ac-0fdf5f808701/lib/python3.11/site-packages (from transformers<5.0.0,>=4.41.0->sentence-transformers) (2024.11.6)\nRequirement already satisfied: tokenizers<0.22,>=0.21 in /local_disk0/.ephemeral_nfs/envs/pythonEnv-2ca88415-2245-4daa-87ac-0fdf5f808701/lib/python3.11/site-packages (from transformers<5.0.0,>=4.41.0->sentence-transformers) (0.21.2)\nRequirement already satisfied: safetensors>=0.4.3 in /local_disk0/.ephemeral_nfs/envs/pythonEnv-2ca88415-2245-4daa-87ac-0fdf5f808701/lib/python3.11/site-packages (from transformers<5.0.0,>=4.41.0->sentence-transformers) (0.5.3)\nRequirement already satisfied: joblib>=1.1.1 in /databricks/python3/lib/python3.11/site-packages (from scikit-learn->sentence-transformers) (1.2.0)\nRequirement already satisfied: threadpoolctl>=2.0.0 in /databricks/python3/lib/python3.11/site-packages (from scikit-learn->sentence-transformers) (2.2.0)\nRequirement already satisfied: anyio in /local_disk0/.ephemeral_nfs/envs/pythonEnv-2ca88415-2245-4daa-87ac-0fdf5f808701/lib/python3.11/site-packages (from httpx<1,>=0.23.0->langsmith>=0.1.125->langchain-community) (4.9.0)\nRequirement already satisfied: httpcore==1.* in /local_disk0/.ephemeral_nfs/envs/pythonEnv-2ca88415-2245-4daa-87ac-0fdf5f808701/lib/python3.11/site-packages (from httpx<1,>=0.23.0->langsmith>=0.1.125->langchain-community) (1.0.9)\nRequirement already satisfied: h11>=0.16 in /local_disk0/.ephemeral_nfs/envs/pythonEnv-2ca88415-2245-4daa-87ac-0fdf5f808701/lib/python3.11/site-packages (from httpcore==1.*->httpx<1,>=0.23.0->langsmith>=0.1.125->langchain-community) (0.16.0)\nRequirement already satisfied: jsonpointer>=1.9 in /local_disk0/.ephemeral_nfs/envs/pythonEnv-2ca88415-2245-4daa-87ac-0fdf5f808701/lib/python3.11/site-packages (from jsonpatch<2.0,>=1.33->langchain-core<1.0.0,>=0.3.66->langchain-community) (3.0.0)\nRequirement already satisfied: annotated-types>=0.6.0 in /local_disk0/.ephemeral_nfs/envs/pythonEnv-2ca88415-2245-4daa-87ac-0fdf5f808701/lib/python3.11/site-packages (from pydantic<3.0.0,>=2.7.4->langchain<1.0.0,>=0.3.26->langchain-community) (0.7.0)\nRequirement already satisfied: pydantic-core==2.33.2 in /local_disk0/.ephemeral_nfs/envs/pythonEnv-2ca88415-2245-4daa-87ac-0fdf5f808701/lib/python3.11/site-packages (from pydantic<3.0.0,>=2.7.4->langchain<1.0.0,>=0.3.26->langchain-community) (2.33.2)\nRequirement already satisfied: mpmath<1.4,>=1.1.0 in /local_disk0/.ephemeral_nfs/envs/pythonEnv-2ca88415-2245-4daa-87ac-0fdf5f808701/lib/python3.11/site-packages (from sympy>=1.13.3->torch>=1.11.0->sentence-transformers) (1.3.0)\nRequirement already satisfied: mypy-extensions>=0.3.0 in /databricks/python3/lib/python3.11/site-packages (from typing-inspect<1,>=0.4.0->dataclasses-json<0.7,>=0.5.7->langchain-community) (0.4.3)\nRequirement already satisfied: MarkupSafe>=2.0 in /local_disk0/.ephemeral_nfs/envs/pythonEnv-2ca88415-2245-4daa-87ac-0fdf5f808701/lib/python3.11/site-packages (from jinja2->torch>=1.11.0->sentence-transformers) (3.0.2)\nRequirement already satisfied: sniffio>=1.1 in /local_disk0/.ephemeral_nfs/envs/pythonEnv-2ca88415-2245-4daa-87ac-0fdf5f808701/lib/python3.11/site-packages (from anyio->httpx<1,>=0.23.0->langsmith>=0.1.125->langchain-community) (1.3.1)\n\u001B[43mNote: you may need to restart the kernel using %restart_python or dbutils.library.restartPython() to use updated packages.\u001B[0m\nRequirement already satisfied: langchain-community in /local_disk0/.ephemeral_nfs/envs/pythonEnv-2ca88415-2245-4daa-87ac-0fdf5f808701/lib/python3.11/site-packages (0.3.27)\nRequirement already satisfied: sentence-transformers in /local_disk0/.ephemeral_nfs/envs/pythonEnv-2ca88415-2245-4daa-87ac-0fdf5f808701/lib/python3.11/site-packages (5.0.0)\nRequirement already satisfied: python-pptx in /local_disk0/.ephemeral_nfs/envs/pythonEnv-2ca88415-2245-4daa-87ac-0fdf5f808701/lib/python3.11/site-packages (1.0.2)\nRequirement already satisfied: faiss-cpu in /local_disk0/.ephemeral_nfs/envs/pythonEnv-2ca88415-2245-4daa-87ac-0fdf5f808701/lib/python3.11/site-packages (1.11.0.post1)\nRequirement already satisfied: openpyxl in /local_disk0/.ephemeral_nfs/envs/pythonEnv-2ca88415-2245-4daa-87ac-0fdf5f808701/lib/python3.11/site-packages (3.1.5)\nRequirement already satisfied: pandas in /local_disk0/.ephemeral_nfs/envs/pythonEnv-2ca88415-2245-4daa-87ac-0fdf5f808701/lib/python3.11/site-packages (2.3.1)\nRequirement already satisfied: langchain-core<1.0.0,>=0.3.66 in /local_disk0/.ephemeral_nfs/envs/pythonEnv-2ca88415-2245-4daa-87ac-0fdf5f808701/lib/python3.11/site-packages (from langchain-community) (0.3.70)\nRequirement already satisfied: langchain<1.0.0,>=0.3.26 in /local_disk0/.ephemeral_nfs/envs/pythonEnv-2ca88415-2245-4daa-87ac-0fdf5f808701/lib/python3.11/site-packages (from langchain-community) (0.3.26)\nRequirement already satisfied: SQLAlchemy<3,>=1.4 in /local_disk0/.ephemeral_nfs/envs/pythonEnv-2ca88415-2245-4daa-87ac-0fdf5f808701/lib/python3.11/site-packages (from langchain-community) (2.0.41)\nRequirement already satisfied: requests<3,>=2 in /databricks/python3/lib/python3.11/site-packages (from langchain-community) (2.31.0)\nRequirement already satisfied: PyYAML>=5.3 in /local_disk0/.ephemeral_nfs/envs/pythonEnv-2ca88415-2245-4daa-87ac-0fdf5f808701/lib/python3.11/site-packages (from langchain-community) (6.0.2)\nRequirement already satisfied: aiohttp<4.0.0,>=3.8.3 in /local_disk0/.ephemeral_nfs/envs/pythonEnv-2ca88415-2245-4daa-87ac-0fdf5f808701/lib/python3.11/site-packages (from langchain-community) (3.12.14)\nRequirement already satisfied: tenacity!=8.4.0,<10,>=8.1.0 in /local_disk0/.ephemeral_nfs/envs/pythonEnv-2ca88415-2245-4daa-87ac-0fdf5f808701/lib/python3.11/site-packages (from langchain-community) (9.1.2)\nRequirement already satisfied: dataclasses-json<0.7,>=0.5.7 in /local_disk0/.ephemeral_nfs/envs/pythonEnv-2ca88415-2245-4daa-87ac-0fdf5f808701/lib/python3.11/site-packages (from langchain-community) (0.6.7)\nRequirement already satisfied: pydantic-settings<3.0.0,>=2.4.0 in /local_disk0/.ephemeral_nfs/envs/pythonEnv-2ca88415-2245-4daa-87ac-0fdf5f808701/lib/python3.11/site-packages (from langchain-community) (2.10.1)\nRequirement already satisfied: langsmith>=0.1.125 in /local_disk0/.ephemeral_nfs/envs/pythonEnv-2ca88415-2245-4daa-87ac-0fdf5f808701/lib/python3.11/site-packages (from langchain-community) (0.4.8)\nRequirement already satisfied: httpx-sse<1.0.0,>=0.4.0 in /local_disk0/.ephemeral_nfs/envs/pythonEnv-2ca88415-2245-4daa-87ac-0fdf5f808701/lib/python3.11/site-packages (from langchain-community) (0.4.1)\nRequirement already satisfied: numpy>=1.26.2 in /local_disk0/.ephemeral_nfs/envs/pythonEnv-2ca88415-2245-4daa-87ac-0fdf5f808701/lib/python3.11/site-packages (from langchain-community) (1.26.4)\nRequirement already satisfied: transformers<5.0.0,>=4.41.0 in /local_disk0/.ephemeral_nfs/envs/pythonEnv-2ca88415-2245-4daa-87ac-0fdf5f808701/lib/python3.11/site-packages (from sentence-transformers) (4.53.3)\nRequirement already satisfied: tqdm in /local_disk0/.ephemeral_nfs/envs/pythonEnv-2ca88415-2245-4daa-87ac-0fdf5f808701/lib/python3.11/site-packages (from sentence-transformers) (4.67.1)\nRequirement already satisfied: torch>=1.11.0 in /local_disk0/.ephemeral_nfs/envs/pythonEnv-2ca88415-2245-4daa-87ac-0fdf5f808701/lib/python3.11/site-packages (from sentence-transformers) (2.7.1)\nRequirement already satisfied: scikit-learn in /databricks/python3/lib/python3.11/site-packages (from sentence-transformers) (1.3.0)\nRequirement already satisfied: scipy in /databricks/python3/lib/python3.11/site-packages (from sentence-transformers) (1.11.1)\nRequirement already satisfied: huggingface-hub>=0.20.0 in /local_disk0/.ephemeral_nfs/envs/pythonEnv-2ca88415-2245-4daa-87ac-0fdf5f808701/lib/python3.11/site-packages (from sentence-transformers) (0.33.4)\nRequirement already satisfied: Pillow in /databricks/python3/lib/python3.11/site-packages (from sentence-transformers) (10.3.0)\nRequirement already satisfied: typing_extensions>=4.5.0 in /local_disk0/.ephemeral_nfs/envs/pythonEnv-2ca88415-2245-4daa-87ac-0fdf5f808701/lib/python3.11/site-packages (from sentence-transformers) (4.14.1)\nRequirement already satisfied: XlsxWriter>=0.5.7 in /local_disk0/.ephemeral_nfs/envs/pythonEnv-2ca88415-2245-4daa-87ac-0fdf5f808701/lib/python3.11/site-packages (from python-pptx) (3.2.5)\nRequirement already satisfied: lxml>=3.1.0 in /local_disk0/.ephemeral_nfs/envs/pythonEnv-2ca88415-2245-4daa-87ac-0fdf5f808701/lib/python3.11/site-packages (from python-pptx) (6.0.0)\nRequirement already satisfied: packaging in /databricks/python3/lib/python3.11/site-packages (from faiss-cpu) (23.2)\nRequirement already satisfied: et-xmlfile in /local_disk0/.ephemeral_nfs/envs/pythonEnv-2ca88415-2245-4daa-87ac-0fdf5f808701/lib/python3.11/site-packages (from openpyxl) (2.0.0)\nRequirement already satisfied: python-dateutil>=2.8.2 in /databricks/python3/lib/python3.11/site-packages (from pandas) (2.8.2)\nRequirement already satisfied: pytz>=2020.1 in /databricks/python3/lib/python3.11/site-packages (from pandas) (2022.7)\nRequirement already satisfied: tzdata>=2022.7 in /local_disk0/.ephemeral_nfs/envs/pythonEnv-2ca88415-2245-4daa-87ac-0fdf5f808701/lib/python3.11/site-packages (from pandas) (2025.2)\nRequirement already satisfied: aiohappyeyeballs>=2.5.0 in /local_disk0/.ephemeral_nfs/envs/pythonEnv-2ca88415-2245-4daa-87ac-0fdf5f808701/lib/python3.11/site-packages (from aiohttp<4.0.0,>=3.8.3->langchain-community) (2.6.1)\nRequirement already satisfied: aiosignal>=1.4.0 in /local_disk0/.ephemeral_nfs/envs/pythonEnv-2ca88415-2245-4daa-87ac-0fdf5f808701/lib/python3.11/site-packages (from aiohttp<4.0.0,>=3.8.3->langchain-community) (1.4.0)\nRequirement already satisfied: attrs>=17.3.0 in /local_disk0/.ephemeral_nfs/envs/pythonEnv-2ca88415-2245-4daa-87ac-0fdf5f808701/lib/python3.11/site-packages (from aiohttp<4.0.0,>=3.8.3->langchain-community) (25.3.0)\nRequirement already satisfied: frozenlist>=1.1.1 in /local_disk0/.ephemeral_nfs/envs/pythonEnv-2ca88415-2245-4daa-87ac-0fdf5f808701/lib/python3.11/site-packages (from aiohttp<4.0.0,>=3.8.3->langchain-community) (1.7.0)\nRequirement already satisfied: multidict<7.0,>=4.5 in /local_disk0/.ephemeral_nfs/envs/pythonEnv-2ca88415-2245-4daa-87ac-0fdf5f808701/lib/python3.11/site-packages (from aiohttp<4.0.0,>=3.8.3->langchain-community) (6.6.3)\nRequirement already satisfied: propcache>=0.2.0 in /local_disk0/.ephemeral_nfs/envs/pythonEnv-2ca88415-2245-4daa-87ac-0fdf5f808701/lib/python3.11/site-packages (from aiohttp<4.0.0,>=3.8.3->langchain-community) (0.3.2)\nRequirement already satisfied: yarl<2.0,>=1.17.0 in /local_disk0/.ephemeral_nfs/envs/pythonEnv-2ca88415-2245-4daa-87ac-0fdf5f808701/lib/python3.11/site-packages (from aiohttp<4.0.0,>=3.8.3->langchain-community) (1.20.1)\nRequirement already satisfied: marshmallow<4.0.0,>=3.18.0 in /local_disk0/.ephemeral_nfs/envs/pythonEnv-2ca88415-2245-4daa-87ac-0fdf5f808701/lib/python3.11/site-packages (from dataclasses-json<0.7,>=0.5.7->langchain-community) (3.26.1)\nRequirement already satisfied: typing-inspect<1,>=0.4.0 in /local_disk0/.ephemeral_nfs/envs/pythonEnv-2ca88415-2245-4daa-87ac-0fdf5f808701/lib/python3.11/site-packages (from dataclasses-json<0.7,>=0.5.7->langchain-community) (0.9.0)\nRequirement already satisfied: filelock in /databricks/python3/lib/python3.11/site-packages (from huggingface-hub>=0.20.0->sentence-transformers) (3.13.4)\nRequirement already satisfied: fsspec>=2023.5.0 in /local_disk0/.ephemeral_nfs/envs/pythonEnv-2ca88415-2245-4daa-87ac-0fdf5f808701/lib/python3.11/site-packages (from huggingface-hub>=0.20.0->sentence-transformers) (2025.7.0)\nRequirement already satisfied: hf-xet<2.0.0,>=1.1.2 in /local_disk0/.ephemeral_nfs/envs/pythonEnv-2ca88415-2245-4daa-87ac-0fdf5f808701/lib/python3.11/site-packages (from huggingface-hub>=0.20.0->sentence-transformers) (1.1.5)\nRequirement already satisfied: langchain-text-splitters<1.0.0,>=0.3.8 in /local_disk0/.ephemeral_nfs/envs/pythonEnv-2ca88415-2245-4daa-87ac-0fdf5f808701/lib/python3.11/site-packages (from langchain<1.0.0,>=0.3.26->langchain-community) (0.3.8)\nRequirement already satisfied: pydantic<3.0.0,>=2.7.4 in /local_disk0/.ephemeral_nfs/envs/pythonEnv-2ca88415-2245-4daa-87ac-0fdf5f808701/lib/python3.11/site-packages (from langchain<1.0.0,>=0.3.26->langchain-community) (2.11.7)\nRequirement already satisfied: jsonpatch<2.0,>=1.33 in /local_disk0/.ephemeral_nfs/envs/pythonEnv-2ca88415-2245-4daa-87ac-0fdf5f808701/lib/python3.11/site-packages (from langchain-core<1.0.0,>=0.3.66->langchain-community) (1.33)\nRequirement already satisfied: httpx<1,>=0.23.0 in /local_disk0/.ephemeral_nfs/envs/pythonEnv-2ca88415-2245-4daa-87ac-0fdf5f808701/lib/python3.11/site-packages (from langsmith>=0.1.125->langchain-community) (0.28.1)\nRequirement already satisfied: orjson<4.0.0,>=3.9.14 in /local_disk0/.ephemeral_nfs/envs/pythonEnv-2ca88415-2245-4daa-87ac-0fdf5f808701/lib/python3.11/site-packages (from langsmith>=0.1.125->langchain-community) (3.11.0)\nRequirement already satisfied: requests-toolbelt<2.0.0,>=1.0.0 in /local_disk0/.ephemeral_nfs/envs/pythonEnv-2ca88415-2245-4daa-87ac-0fdf5f808701/lib/python3.11/site-packages (from langsmith>=0.1.125->langchain-community) (1.0.0)\nRequirement already satisfied: zstandard<0.24.0,>=0.23.0 in /databricks/python3/lib/python3.11/site-packages (from langsmith>=0.1.125->langchain-community) (0.23.0)\nRequirement already satisfied: python-dotenv>=0.21.0 in /local_disk0/.ephemeral_nfs/envs/pythonEnv-2ca88415-2245-4daa-87ac-0fdf5f808701/lib/python3.11/site-packages (from pydantic-settings<3.0.0,>=2.4.0->langchain-community) (1.1.1)\nRequirement already satisfied: typing-inspection>=0.4.0 in /local_disk0/.ephemeral_nfs/envs/pythonEnv-2ca88415-2245-4daa-87ac-0fdf5f808701/lib/python3.11/site-packages (from pydantic-settings<3.0.0,>=2.4.0->langchain-community) (0.4.1)\nRequirement already satisfied: six>=1.5 in /usr/lib/python3/dist-packages (from python-dateutil>=2.8.2->pandas) (1.16.0)\nRequirement already satisfied: charset-normalizer<4,>=2 in /databricks/python3/lib/python3.11/site-packages (from requests<3,>=2->langchain-community) (2.0.4)\nRequirement already satisfied: idna<4,>=2.5 in /databricks/python3/lib/python3.11/site-packages (from requests<3,>=2->langchain-community) (3.4)\nRequirement already satisfied: urllib3<3,>=1.21.1 in /databricks/python3/lib/python3.11/site-packages (from requests<3,>=2->langchain-community) (1.26.16)\nRequirement already satisfied: certifi>=2017.4.17 in /local_disk0/.ephemeral_nfs/envs/pythonEnv-2ca88415-2245-4daa-87ac-0fdf5f808701/lib/python3.11/site-packages (from requests<3,>=2->langchain-community) (2025.7.14)\nRequirement already satisfied: greenlet>=1 in /local_disk0/.ephemeral_nfs/envs/pythonEnv-2ca88415-2245-4daa-87ac-0fdf5f808701/lib/python3.11/site-packages (from SQLAlchemy<3,>=1.4->langchain-community) (3.2.3)\nRequirement already satisfied: sympy>=1.13.3 in /local_disk0/.ephemeral_nfs/envs/pythonEnv-2ca88415-2245-4daa-87ac-0fdf5f808701/lib/python3.11/site-packages (from torch>=1.11.0->sentence-transformers) (1.14.0)\nRequirement already satisfied: networkx in /local_disk0/.ephemeral_nfs/envs/pythonEnv-2ca88415-2245-4daa-87ac-0fdf5f808701/lib/python3.11/site-packages (from torch>=1.11.0->sentence-transformers) (3.5)\nRequirement already satisfied: jinja2 in /local_disk0/.ephemeral_nfs/envs/pythonEnv-2ca88415-2245-4daa-87ac-0fdf5f808701/lib/python3.11/site-packages (from torch>=1.11.0->sentence-transformers) (3.1.6)\nRequirement already satisfied: nvidia-cuda-nvrtc-cu12==12.6.77 in /local_disk0/.ephemeral_nfs/envs/pythonEnv-2ca88415-2245-4daa-87ac-0fdf5f808701/lib/python3.11/site-packages (from torch>=1.11.0->sentence-transformers) (12.6.77)\nRequirement already satisfied: nvidia-cuda-runtime-cu12==12.6.77 in /local_disk0/.ephemeral_nfs/envs/pythonEnv-2ca88415-2245-4daa-87ac-0fdf5f808701/lib/python3.11/site-packages (from torch>=1.11.0->sentence-transformers) (12.6.77)\nRequirement already satisfied: nvidia-cuda-cupti-cu12==12.6.80 in /local_disk0/.ephemeral_nfs/envs/pythonEnv-2ca88415-2245-4daa-87ac-0fdf5f808701/lib/python3.11/site-packages (from torch>=1.11.0->sentence-transformers) (12.6.80)\nRequirement already satisfied: nvidia-cudnn-cu12==9.5.1.17 in /local_disk0/.ephemeral_nfs/envs/pythonEnv-2ca88415-2245-4daa-87ac-0fdf5f808701/lib/python3.11/site-packages (from torch>=1.11.0->sentence-transformers) (9.5.1.17)\nRequirement already satisfied: nvidia-cublas-cu12==12.6.4.1 in /local_disk0/.ephemeral_nfs/envs/pythonEnv-2ca88415-2245-4daa-87ac-0fdf5f808701/lib/python3.11/site-packages (from torch>=1.11.0->sentence-transformers) (12.6.4.1)\nRequirement already satisfied: nvidia-cufft-cu12==11.3.0.4 in /local_disk0/.ephemeral_nfs/envs/pythonEnv-2ca88415-2245-4daa-87ac-0fdf5f808701/lib/python3.11/site-packages (from torch>=1.11.0->sentence-transformers) (11.3.0.4)\nRequirement already satisfied: nvidia-curand-cu12==10.3.7.77 in /local_disk0/.ephemeral_nfs/envs/pythonEnv-2ca88415-2245-4daa-87ac-0fdf5f808701/lib/python3.11/site-packages (from torch>=1.11.0->sentence-transformers) (10.3.7.77)\nRequirement already satisfied: nvidia-cusolver-cu12==11.7.1.2 in /local_disk0/.ephemeral_nfs/envs/pythonEnv-2ca88415-2245-4daa-87ac-0fdf5f808701/lib/python3.11/site-packages (from torch>=1.11.0->sentence-transformers) (11.7.1.2)\nRequirement already satisfied: nvidia-cusparse-cu12==12.5.4.2 in /local_disk0/.ephemeral_nfs/envs/pythonEnv-2ca88415-2245-4daa-87ac-0fdf5f808701/lib/python3.11/site-packages (from torch>=1.11.0->sentence-transformers) (12.5.4.2)\nRequirement already satisfied: nvidia-cusparselt-cu12==0.6.3 in /local_disk0/.ephemeral_nfs/envs/pythonEnv-2ca88415-2245-4daa-87ac-0fdf5f808701/lib/python3.11/site-packages (from torch>=1.11.0->sentence-transformers) (0.6.3)\nRequirement already satisfied: nvidia-nccl-cu12==2.26.2 in /local_disk0/.ephemeral_nfs/envs/pythonEnv-2ca88415-2245-4daa-87ac-0fdf5f808701/lib/python3.11/site-packages (from torch>=1.11.0->sentence-transformers) (2.26.2)\nRequirement already satisfied: nvidia-nvtx-cu12==12.6.77 in /local_disk0/.ephemeral_nfs/envs/pythonEnv-2ca88415-2245-4daa-87ac-0fdf5f808701/lib/python3.11/site-packages (from torch>=1.11.0->sentence-transformers) (12.6.77)\nRequirement already satisfied: nvidia-nvjitlink-cu12==12.6.85 in /local_disk0/.ephemeral_nfs/envs/pythonEnv-2ca88415-2245-4daa-87ac-0fdf5f808701/lib/python3.11/site-packages (from torch>=1.11.0->sentence-transformers) (12.6.85)\nRequirement already satisfied: nvidia-cufile-cu12==1.11.1.6 in /local_disk0/.ephemeral_nfs/envs/pythonEnv-2ca88415-2245-4daa-87ac-0fdf5f808701/lib/python3.11/site-packages (from torch>=1.11.0->sentence-transformers) (1.11.1.6)\nRequirement already satisfied: triton==3.3.1 in /local_disk0/.ephemeral_nfs/envs/pythonEnv-2ca88415-2245-4daa-87ac-0fdf5f808701/lib/python3.11/site-packages (from torch>=1.11.0->sentence-transformers) (3.3.1)\nRequirement already satisfied: setuptools>=40.8.0 in /local_disk0/.ephemeral_nfs/envs/pythonEnv-2ca88415-2245-4daa-87ac-0fdf5f808701/lib/python3.11/site-packages (from triton==3.3.1->torch>=1.11.0->sentence-transformers) (80.9.0)\nRequirement already satisfied: regex!=2019.12.17 in /local_disk0/.ephemeral_nfs/envs/pythonEnv-2ca88415-2245-4daa-87ac-0fdf5f808701/lib/python3.11/site-packages (from transformers<5.0.0,>=4.41.0->sentence-transformers) (2024.11.6)\nRequirement already satisfied: tokenizers<0.22,>=0.21 in /local_disk0/.ephemeral_nfs/envs/pythonEnv-2ca88415-2245-4daa-87ac-0fdf5f808701/lib/python3.11/site-packages (from transformers<5.0.0,>=4.41.0->sentence-transformers) (0.21.2)\nRequirement already satisfied: safetensors>=0.4.3 in /local_disk0/.ephemeral_nfs/envs/pythonEnv-2ca88415-2245-4daa-87ac-0fdf5f808701/lib/python3.11/site-packages (from transformers<5.0.0,>=4.41.0->sentence-transformers) (0.5.3)\nRequirement already satisfied: joblib>=1.1.1 in /databricks/python3/lib/python3.11/site-packages (from scikit-learn->sentence-transformers) (1.2.0)\nRequirement already satisfied: threadpoolctl>=2.0.0 in /databricks/python3/lib/python3.11/site-packages (from scikit-learn->sentence-transformers) (2.2.0)\nRequirement already satisfied: anyio in /local_disk0/.ephemeral_nfs/envs/pythonEnv-2ca88415-2245-4daa-87ac-0fdf5f808701/lib/python3.11/site-packages (from httpx<1,>=0.23.0->langsmith>=0.1.125->langchain-community) (4.9.0)\nRequirement already satisfied: httpcore==1.* in /local_disk0/.ephemeral_nfs/envs/pythonEnv-2ca88415-2245-4daa-87ac-0fdf5f808701/lib/python3.11/site-packages (from httpx<1,>=0.23.0->langsmith>=0.1.125->langchain-community) (1.0.9)\nRequirement already satisfied: h11>=0.16 in /local_disk0/.ephemeral_nfs/envs/pythonEnv-2ca88415-2245-4daa-87ac-0fdf5f808701/lib/python3.11/site-packages (from httpcore==1.*->httpx<1,>=0.23.0->langsmith>=0.1.125->langchain-community) (0.16.0)\nRequirement already satisfied: jsonpointer>=1.9 in /local_disk0/.ephemeral_nfs/envs/pythonEnv-2ca88415-2245-4daa-87ac-0fdf5f808701/lib/python3.11/site-packages (from jsonpatch<2.0,>=1.33->langchain-core<1.0.0,>=0.3.66->langchain-community) (3.0.0)\nRequirement already satisfied: annotated-types>=0.6.0 in /local_disk0/.ephemeral_nfs/envs/pythonEnv-2ca88415-2245-4daa-87ac-0fdf5f808701/lib/python3.11/site-packages (from pydantic<3.0.0,>=2.7.4->langchain<1.0.0,>=0.3.26->langchain-community) (0.7.0)\nRequirement already satisfied: pydantic-core==2.33.2 in /local_disk0/.ephemeral_nfs/envs/pythonEnv-2ca88415-2245-4daa-87ac-0fdf5f808701/lib/python3.11/site-packages (from pydantic<3.0.0,>=2.7.4->langchain<1.0.0,>=0.3.26->langchain-community) (2.33.2)\nRequirement already satisfied: mpmath<1.4,>=1.1.0 in /local_disk0/.ephemeral_nfs/envs/pythonEnv-2ca88415-2245-4daa-87ac-0fdf5f808701/lib/python3.11/site-packages (from sympy>=1.13.3->torch>=1.11.0->sentence-transformers) (1.3.0)\nRequirement already satisfied: mypy-extensions>=0.3.0 in /databricks/python3/lib/python3.11/site-packages (from typing-inspect<1,>=0.4.0->dataclasses-json<0.7,>=0.5.7->langchain-community) (0.4.3)\nRequirement already satisfied: MarkupSafe>=2.0 in /local_disk0/.ephemeral_nfs/envs/pythonEnv-2ca88415-2245-4daa-87ac-0fdf5f808701/lib/python3.11/site-packages (from jinja2->torch>=1.11.0->sentence-transformers) (3.0.2)\nRequirement already satisfied: sniffio>=1.1 in /local_disk0/.ephemeral_nfs/envs/pythonEnv-2ca88415-2245-4daa-87ac-0fdf5f808701/lib/python3.11/site-packages (from anyio->httpx<1,>=0.23.0->langsmith>=0.1.125->langchain-community) (1.3.1)\n\u001B[43mNote: you may need to restart the kernel using %restart_python or dbutils.library.restartPython() to use updated packages.\u001B[0m\n"
     ]
    }
   ],
   "source": [
    "%pip install -U langchain-community sentence-transformers python-pptx faiss-cpu\n",
    "%pip install -U langchain-community sentence-transformers python-pptx faiss-cpu openpyxl pandas\n",
    "import os\n",
    "from pptx import Presentation\n",
    "from docx import Document as DocxDocument\n",
    "import PyPDF2\n",
    "\n",
    "# ----------- Extractor Functions -----------\n",
    "\n",
    "def extract_text_from_pptx(file_path):\n",
    "    prs = Presentation(file_path)\n",
    "    text = \"\"\n",
    "    for slide in prs.slides:\n",
    "        for shape in slide.shapes:\n",
    "            if hasattr(shape, \"text\"):\n",
    "                text += shape.text + \"\\n\"\n",
    "    return text\n",
    "\n",
    "def extract_text_from_docx(file_path):\n",
    "    doc = DocxDocument(file_path)\n",
    "    return \"\\n\".join([para.text for para in doc.paragraphs])\n",
    "\n",
    "def extract_text_from_pdf(file_path):\n",
    "    text = \"\"\n",
    "    with open(file_path, \"rb\") as f:\n",
    "        reader = PyPDF2.PdfReader(f)\n",
    "        for page in reader.pages:\n",
    "            page_text = page.extract_text()\n",
    "            if page_text:\n",
    "                text += page_text + \"\\n\"\n",
    "    return text\n",
    "\n",
    "import pandas as pd\n",
    "from openpyxl import load_workbook\n",
    "\n",
    "# ----------- Excel Extractor and Editor -----------\n",
    "\n",
    "def extract_text_from_excel(file_path):\n",
    "    excel_data = pd.read_excel(file_path, sheet_name=None)\n",
    "    text = \"\"\n",
    "    for sheet_name, df in excel_data.items():\n",
    "        text += f\"Sheet: {sheet_name}\\n\"\n",
    "        text += df.to_string(index=False)\n",
    "        text += \"\\n\\n\"\n",
    "    return text\n",
    "\n",
    "def edit_excel_file(file_path, sheet_name, cell, new_value):\n",
    "    workbook = load_workbook(file_path)\n",
    "    if sheet_name in workbook.sheetnames:\n",
    "        sheet = workbook[sheet_name]\n",
    "        sheet[cell] = new_value\n",
    "        workbook.save(file_path)\n",
    "        print(f\"✅ Edited {file_path} -> Sheet: {sheet_name}, Cell: {cell}, New Value: {new_value}\")\n",
    "    else:\n",
    "        print(f\"❌ Sheet '{sheet_name}' not found in {file_path}\")\n",
    "\n",
    "\n",
    "# ----------- File Collection and Extraction -----------\n",
    "\n",
    "file_dir = \"/Workspace/Users/rajesh.ghosh@xebia.com/Rag based application/Files/\"\n",
    "documents = []\n",
    "\n",
    "for filename in os.listdir(file_dir):\n",
    "    full_path = os.path.join(file_dir, filename)\n",
    "    if filename.endswith(\".pptx\"):\n",
    "        documents.append(extract_text_from_pptx(full_path))\n",
    "    elif filename.endswith(\".docx\"):\n",
    "        documents.append(extract_text_from_docx(full_path))\n",
    "    elif filename.endswith(\".pdf\"):\n",
    "        documents.append(extract_text_from_pdf(full_path))\n",
    "    elif filename.endswith(\".xlsx\"):\n",
    "        documents.append(extract_text_from_excel(full_path))\n",
    "\n",
    "# ----------- Chunking the Text -----------\n",
    "\n",
    "from langchain.text_splitter import RecursiveCharacterTextSplitter\n",
    "\n",
    "text_splitter = RecursiveCharacterTextSplitter(chunk_size=500, chunk_overlap=50)\n",
    "docs = text_splitter.create_documents(documents)\n",
    "\n",
    "# ----------- Embedding and FAISS Index -----------\n",
    "\n",
    "from langchain_community.vectorstores import FAISS\n",
    "from langchain_community.embeddings import HuggingFaceEmbeddings\n",
    "\n",
    "embedding_model = HuggingFaceEmbeddings(model_name=\"sentence-transformers/all-MiniLM-L6-v2\")\n",
    "faiss_store = FAISS.from_documents(docs, embedding_model)\n",
    "\n",
    "# Save index\n",
    "index_dir = \"your_index_storage\"\n",
    "faiss_store.save_local(index_dir)\n",
    "\n",
    "# Load it back if needed\n",
    "faiss_store = FAISS.load_local(\n",
    "    folder_path=index_dir,\n",
    "    embeddings=embedding_model,\n",
    "    allow_dangerous_deserialization=True\n",
    ")\n",
    "\n",
    "# ----------- Custom Prompt Setup for LLM -----------\n",
    "\n",
    "from langchain.chat_models import ChatDatabricks\n",
    "from langchain.prompts import ChatPromptTemplate, SystemMessagePromptTemplate, HumanMessagePromptTemplate\n",
    "from langchain.chains import RetrievalQA\n",
    "\n",
    "# Define your custom system prompt\n",
    "system_prompt = \"\"\"You are an AI Maturity Assessment expert bot designed to evaluate an organization's AI readiness and implementation maturity across key dimensions such as Strategy, Data, Technology, Talent, Use Cases, and Governance.\n",
    "\n",
    "Your role is to ask context-relevant, structured questions, interpret corporate inputs (documents, slides, user text), and generate clear, concise, and non-repetitive insights or scoring feedback. You must follow this guidance:\n",
    "\n",
    "- Maintain a **professional, neutral, and analytical tone**.\n",
    "- Never make up information or assumptions. If something is unclear, ask for clarification.\n",
    "- Only use the information provided in the documents.\n",
    "- If the answer is not available in the documents, respond with: \"The answer is not available in the provided materials.\"\n",
    "- Do not use external knowledge or assumptions, even if the question seems answerable.\n",
    "- Never ask follow-up questions or suggest next steps.\n",
    "- Provide **brief, actionable insights or summaries**, using bullet points when applicable.\n",
    "- Tailor your questions and feedback based on industry, organization size, and AI adoption stage if such context is available.\n",
    "- Respect the confidentiality of all user-provided documents and context.\n",
    "- When giving recommendations, **ground them in maturity best practices**, such as known frameworks (e.g., AI Maturity by McKinsey, Gartner, or Deloitte), without explicitly referencing them unless requested.\n",
    "- Do not provide generic or vague answers; be context-specific based on input received.\n",
    "- Use a **scoring system or maturity scale** only if specifically requested.\n",
    "- Do not provide insight,analysis only Responses should be provided.\n",
    "\n",
    "Example areas to probe (depending on input):\n",
    "- Strategic alignment of AI with business goals\n",
    "- Leadership and change management\n",
    "- Data quality, accessibility, and infrastructure\n",
    "- Talent readiness and upskilling efforts\n",
    "- Use case maturity and value realization\n",
    "- Ethics, security, and responsible AI practices\"\"\"\n",
    "\n",
    "# Prompt template setup\n",
    "prompt = ChatPromptTemplate.from_messages([\n",
    "    SystemMessagePromptTemplate.from_template(system_prompt),\n",
    "    HumanMessagePromptTemplate.from_template(\"Context:\\n{context}\\n\\nQuestion: {question}\")\n",
    "])\n",
    "\n",
    "# LLM Configuration\n",
    "llm = ChatDatabricks(\n",
    "    endpoint=\"databricks-llama-4-maverick\",\n",
    "    max_tokens=300\n",
    ")\n",
    "\n",
    "# Setup RetrievalQA chain using custom prompt\n",
    "rag_chain = RetrievalQA.from_chain_type(\n",
    "    llm=llm,\n",
    "    retriever=faiss_store.as_retriever(),\n",
    "    chain_type=\"stuff\",\n",
    "    chain_type_kwargs={\"prompt\": prompt}\n",
    ")\n"
   ]
  },
  {
   "cell_type": "code",
   "execution_count": 0,
   "metadata": {
    "application/vnd.databricks.v1+cell": {
     "cellMetadata": {},
     "inputWidgets": {},
     "nuid": "fd7ec519-dd19-4c35-b98c-d057e4b2907c",
     "showTitle": false,
     "tableResultSettingsMap": {},
     "title": ""
    }
   },
   "outputs": [
    {
     "output_type": "display_data",
     "data": {
      "text/html": [
       "<style scoped>\n",
       "  .ansiout {\n",
       "    display: block;\n",
       "    unicode-bidi: embed;\n",
       "    white-space: pre-wrap;\n",
       "    word-wrap: break-word;\n",
       "    word-break: break-all;\n",
       "    font-family: \"Menlo\", \"Monaco\", \"Consolas\", \"Ubuntu Mono\", \"Source Code Pro\", monospace;\n",
       "    font-size: 13px;\n",
       "    color: #555;\n",
       "    margin-left: 4px;\n",
       "    line-height: 19px;\n",
       "  }\n",
       "</style>"
      ]
     },
     "metadata": {
      "application/vnd.databricks.v1+output": {
       "arguments": {},
       "data": "",
       "errorSummary": "Command skipped",
       "errorTraceType": null,
       "metadata": {},
       "type": "ipynbError"
      }
     },
     "output_type": "display_data"
    }
   ],
   "source": [
    "import os\n",
    "from pptx import Presentation\n",
    "from docx import Document as DocxDocument\n",
    "import PyPDF2\n",
    "\n",
    "# ----------- Extractor Functions -----------\n",
    "\n",
    "def extract_text_from_pptx(file_path):\n",
    "    prs = Presentation(file_path)\n",
    "    text = \"\"\n",
    "    for slide in prs.slides:\n",
    "        for shape in slide.shapes:\n",
    "            if hasattr(shape, \"text\"):\n",
    "                text += shape.text + \"\\n\"\n",
    "    return text\n",
    "\n",
    "def extract_text_from_docx(file_path):\n",
    "    doc = DocxDocument(file_path)\n",
    "    return \"\\n\".join([para.text for para in doc.paragraphs])\n",
    "\n",
    "def extract_text_from_pdf(file_path):\n",
    "    text = \"\"\n",
    "    with open(file_path, \"rb\") as f:\n",
    "        reader = PyPDF2.PdfReader(f)\n",
    "        for page in reader.pages:\n",
    "            page_text = page.extract_text()\n",
    "            if page_text:\n",
    "                text += page_text + \"\\n\"\n",
    "    return text\n",
    "\n",
    "# ----------- File Collection and Extraction -----------\n",
    "\n",
    "file_dir = \"/Workspace/Users/rajesh.ghosh@xebia.com/Rag based application/Files/\"\n",
    "documents = []\n",
    "\n",
    "for filename in os.listdir(file_dir):\n",
    "    full_path = os.path.join(file_dir, filename)\n",
    "    if filename.endswith(\".pptx\"):\n",
    "        documents.append(extract_text_from_pptx(full_path))\n",
    "    elif filename.endswith(\".docx\"):\n",
    "        documents.append(extract_text_from_docx(full_path))\n",
    "    elif filename.endswith(\".pdf\"):\n",
    "        documents.append(extract_text_from_pdf(full_path))\n",
    "\n",
    "# ----------- Chunking the Text -----------\n",
    "\n",
    "from langchain.text_splitter import RecursiveCharacterTextSplitter\n",
    "\n",
    "text_splitter = RecursiveCharacterTextSplitter(chunk_size=500, chunk_overlap=50)\n",
    "docs = text_splitter.create_documents(documents)\n",
    "\n",
    "# ----------- Embedding and FAISS Index -----------\n",
    "\n",
    "from langchain_community.vectorstores import FAISS\n",
    "from langchain_community.embeddings import HuggingFaceEmbeddings\n",
    "\n",
    "embedding_model = HuggingFaceEmbeddings(model_name=\"sentence-transformers/all-MiniLM-L6-v2\")\n",
    "faiss_store = FAISS.from_documents(docs, embedding_model)\n",
    "\n",
    "# Save index\n",
    "index_dir = \"your_index_storage\"\n",
    "faiss_store.save_local(index_dir)\n",
    "\n",
    "# Load it back if needed\n",
    "faiss_store = FAISS.load_local(\n",
    "    folder_path=index_dir,\n",
    "    embeddings=embedding_model,\n",
    "    allow_dangerous_deserialization=True\n",
    ")\n",
    "\n",
    "# ----------- Custom Prompt Setup for LLM -----------\n",
    "\n",
    "from langchain.chat_models import ChatDatabricks\n",
    "from langchain.prompts import ChatPromptTemplate, SystemMessagePromptTemplate, HumanMessagePromptTemplate\n",
    "from langchain.chains import RetrievalQA\n",
    "\n",
    "# Define your custom system prompt\n",
    "system_prompt = \"\"\"You are a helpful AI Maturity Assessment consultant who extracts insights from corporate presentations.\n",
    "Be concise, accurate, and avoid repetition. Respond in bullet points where appropriate. Do not make things up when you don't have context.\"\"\"\n",
    "\n",
    "# Prompt template setup\n",
    "prompt = ChatPromptTemplate.from_messages([\n",
    "    SystemMessagePromptTemplate.from_template(system_prompt),\n",
    "    HumanMessagePromptTemplate.from_template(\"Context:\\n{context}\\n\\nQuestion: {question}\")\n",
    "])\n",
    "\n",
    "# LLM Configuration\n",
    "llm = ChatDatabricks(\n",
    "    endpoint=\"databricks-llama-4-maverick\",\n",
    "    max_tokens=300\n",
    ")\n",
    "\n",
    "# Setup RetrievalQA chain using custom prompt\n",
    "rag_chain = RetrievalQA.from_chain_type(\n",
    "    llm=llm,\n",
    "    retriever=faiss_store.as_retriever(),\n",
    "    chain_type=\"stuff\",\n",
    "    chain_type_kwargs={\"prompt\": prompt}\n",
    ")\n"
   ]
  },
  {
   "cell_type": "code",
   "execution_count": 0,
   "metadata": {
    "application/vnd.databricks.v1+cell": {
     "cellMetadata": {
      "byteLimit": 2048000,
      "rowLimit": 10000
     },
     "inputWidgets": {},
     "nuid": "c9cae6c5-42f8-49d3-bcf7-0e728989e501",
     "showTitle": false,
     "tableResultSettingsMap": {},
     "title": ""
    }
   },
   "outputs": [
    {
     "output_type": "stream",
     "name": "stdout",
     "output_type": "stream",
     "text": [
      "Q: Who created this assessment\nA: The assessment was created by the authors of the publication \"AI Maturity Assessment and Alignment (AIMAA) - A Comprehensive Framework for Evaluating and Benchmarking AI Adoption in Organizations\". The authors include Gopikrishnan Janakaraja from the Massachusetts Institute of Technology, among others.\n------\nQ: Explain any one dimensions\nA: **Dimension 1: Strategy & Leadership**\n\nThis dimension assesses whether an organization has a structured AI strategy that is actively driven by leadership. It evaluates how well AI aligns with the business strategy, leadership commitment, and AI governance. A strong executive leadership and strategic direction are essential for AI maturity, as they enable organizations to treat AI as a core business driver rather than an experimental initiative. Key aspects of this dimension include:\n\n* Alignment of AI with business strategy\n* Leadership commitment to AI adoption\n* Presence of a formal AI strategy and governance structure\n\nOrganizations with high maturity in this dimension are likely to have a clear AI vision, a well-defined AI strategy, and strong leadership support for AI initiatives.\n------\nQ: Explain what is quantum mechanics\nA: The answer is not available in the provided materials.\n------\nQ: Explain why black Indian men wont fit in maturity assesment\nA: The answer is not available in the provided materials.\n------\n"
     ]
    }
   ],
   "source": [
    "\n",
    "# ----------- Ask Questions -----------\n",
    "\n",
    "questions = [\n",
    "    \"Who created this assessment\",\n",
    "    \"Explain any one dimensions\",\n",
    "    \"Explain what is quantum mechanics\",\n",
    "    \"Explain why black Indian men wont fit in maturity assesment\"\n",
    "]\n",
    "\n",
    "for q in questions:\n",
    "    print(f\"Q: {q}\")\n",
    "    print(\"A:\", rag_chain.run(q))\n",
    "    print(\"------\")\n"
   ]
  },
  {
   "cell_type": "code",
   "execution_count": 0,
   "metadata": {
    "application/vnd.databricks.v1+cell": {
     "cellMetadata": {
      "byteLimit": 2048000,
      "rowLimit": 10000
     },
     "inputWidgets": {},
     "nuid": "f489d199-9fd9-41d3-ad3b-e83f462001f6",
     "showTitle": false,
     "tableResultSettingsMap": {},
     "title": ""
    }
   },
   "outputs": [
    {
     "output_type": "stream",
     "name": "stdout",
     "output_type": "stream",
     "text": [
      "--- Chunk 1 ---\nAI Maturity Assessment\n\nAssessment Levels\n--- Chunk 2 ---\nFocuses on Product Development and Support Teams, highlighting the application of AI throughout the Product Life Cycle, enhancements in productivity and quality, and AI-powered customer-centric approaches.\nProduct Teams (Business and IT, Dev and Support)\nAn organization is shaped by its people. This level focuses on individual team members, evaluating aspects such as their AI awareness, AI-driven innovation, and AI ethics.\nTeam Members\n--- Chunk 3 ---\nTeam Members\nConcentrates on organization-wide \u000BAI implementation, maturity levels, governance frameworks, and policy development.\nEnterprise\nConcentrates on the implementation of AI, automation, and enhanced turnaround times within knowledge and business areas, including HR, Legal, Finance, Marketing, and related functions.\nKnowledge and Business Functions\n1\n2\n3\n4\n--- Chunk 4 ---\nEnterprise\nKnowledge and Business Functions\nProduct Teams\n(Business + IT,\nDev and Support)\nTeam Members\nAssessment\nDimensions\n\nMaturity levels\n\nImplementation\nApproach\nAssessment Framework\n--- Chunk 5 ---\nSee discussions, st ats, and author pr ofiles f or this public ation at : https://www .researchgate.ne t/public ation/388678591\nAI Matu rity Assessment and Alignment (AIMAA) - A Comprehensive Framework\nfor Evaluating and Benchmarking AI Adoption in Organizations\nMethod  · Februar y 2025\nDOI: 10.13140/RG.2.2.33670.89929\nCITATIONS\n0READS\n1,924\n2 author s, including:\nGopikrishnan Janak araja\nMassachuse tts Instit ute of T echnolog y\n2 PUBLICA TIONS    0 CITATIONS    \nSEE PROFILE\n"
     ]
    }
   ],
   "source": [
    "for i, doc in enumerate(docs[:5]):  # Show first 5 chunks\n",
    "    print(f\"--- Chunk {i+1} ---\")\n",
    "    print(doc.page_content)"
   ]
  }
 ],
 "metadata": {
  "application/vnd.databricks.v1+notebook": {
   "computePreferences": null,
   "dashboards": [],
   "environmentMetadata": {
    "base_environment": "",
    "environment_version": "2"
   },
   "inputWidgetPreferences": null,
   "language": "python",
   "notebookMetadata": {
    "pythonIndentUnit": 4
   },
   "notebookName": "Multifile RAG system",
   "widgets": {}
  },
  "language_info": {
   "name": "python"
  }
 },
 "nbformat": 4,
 "nbformat_minor": 0
}